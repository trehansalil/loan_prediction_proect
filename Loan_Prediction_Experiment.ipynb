{
  "cells": [
    {
      "cell_type": "markdown",
      "metadata": {
        "id": "view-in-github",
        "colab_type": "text"
      },
      "source": [
        "<a href=\"https://colab.research.google.com/github/trehansalil/loan_prediction_proect/blob/main/Loan_Prediction_Experiment.ipynb\" target=\"_parent\"><img src=\"https://colab.research.google.com/assets/colab-badge.svg\" alt=\"Open In Colab\"/></a>"
      ]
    },
    {
      "cell_type": "code",
      "execution_count": 76,
      "metadata": {
        "id": "lIYdn1woOS1n"
      },
      "outputs": [],
      "source": [
        "import pandas as pd\n",
        "import numpy as np\n",
        "\n",
        "from sklearn.preprocessing import MinMaxScaler, PowerTransformer"
      ]
    },
    {
      "cell_type": "code",
      "source": [
        "!unzip data\\(3\\).zip"
      ],
      "metadata": {
        "id": "_lsqeIRwlfHO",
        "outputId": "c6373e03-677c-4518-b32d-0a8188ffb8dd",
        "colab": {
          "base_uri": "https://localhost:8080/"
        }
      },
      "execution_count": 77,
      "outputs": [
        {
          "output_type": "stream",
          "name": "stdout",
          "text": [
            "Archive:  data(3).zip\n",
            "replace data/Dataset.csv? [y]es, [n]o, [A]ll, [N]one, [r]ename: "
          ]
        }
      ]
    },
    {
      "cell_type": "code",
      "source": [
        "data = pd.read_csv('data/Dataset.csv', low_memory=False)\n",
        "data_dict = pd.read_csv('data/Data_Dictionary.csv')"
      ],
      "metadata": {
        "id": "Nv0GCZY9lo66"
      },
      "execution_count": 78,
      "outputs": []
    },
    {
      "cell_type": "code",
      "source": [
        "key_columns = ['Client_Income', 'Employed_Days', 'Active_Loan', 'Credit_Amount', 'Credit_Bureau', 'Loan_Annuity', 'Child_Count',\n",
        "               'Client_Permanent_Match_Tag', 'Client_Contact_Work_Tag', 'ID_Days']\n",
        "\n",
        "demographic_vars = ['Client_Education', 'Client_Income_Type', 'Client_Income',\n",
        "                    'Client_Education', 'Client_Marital_Status', 'Client_Gender',\n",
        "                    'Age_Days', 'Type_Organization', 'Social_Circle_Default', 'ID_Days']\n",
        "\n",
        "collateral_vars = ['Car_Owned', 'Bike_Owned', \"House_Own\"]\n",
        "\n",
        "collateral_vars"
      ],
      "metadata": {
        "id": "I6bcB_6EmNyF",
        "outputId": "e665a816-94e1-4a41-8ab9-154e31c7cd24",
        "colab": {
          "base_uri": "https://localhost:8080/"
        }
      },
      "execution_count": 79,
      "outputs": [
        {
          "output_type": "execute_result",
          "data": {
            "text/plain": [
              "['Car_Owned', 'Bike_Owned', 'House_Own']"
            ]
          },
          "metadata": {},
          "execution_count": 79
        }
      ]
    },
    {
      "cell_type": "code",
      "source": [
        "data_var_dict = dict(zip(data_dict['Variable'],  data_dict['Description']))\n",
        "\n",
        "def define_var(var_name):\n",
        "  return data_var_dict[var_name]"
      ],
      "metadata": {
        "id": "HDvZz-uel0vY"
      },
      "execution_count": 80,
      "outputs": []
    },
    {
      "cell_type": "code",
      "source": [
        "for col in key_columns:\n",
        "  print(f\"{col}, {define_var(var_name=col)}\")"
      ],
      "metadata": {
        "id": "IXPREmbxoamu",
        "outputId": "c0bbb055-7fa8-43d9-9198-21b326fa0d54",
        "colab": {
          "base_uri": "https://localhost:8080/"
        }
      },
      "execution_count": 81,
      "outputs": [
        {
          "output_type": "stream",
          "name": "stdout",
          "text": [
            "Client_Income, Client Income in $\n",
            "Employed_Days, Days before the application, the client started earning\n",
            "Active_Loan, Any other active loan at the time of aplication of loan (0 means No and 1 means otherwise)\n",
            "Credit_Amount, Credit amount of the loan in $\n",
            "Credit_Bureau, Total number of enquiries in last year\n",
            "Loan_Annuity, Loan annuity in $\n",
            "Child_Count, Number of children the client has\n",
            "Client_Permanent_Match_Tag, Indication if client contact address does not match permanent address.\n",
            "Client_Contact_Work_Tag, Indication if client work address does not match contact address.\n",
            "ID_Days, Days before the loan application, the client changed his/her identity document with which the loan was applied\n"
          ]
        }
      ]
    },
    {
      "cell_type": "code",
      "source": [
        "for col in demographic_vars:\n",
        "  print(f\"{col}, {define_var(var_name=col)}\")"
      ],
      "metadata": {
        "id": "ussBQuDlmD3l",
        "outputId": "844d840d-aaca-4e5d-e26b-15e3835aab35",
        "colab": {
          "base_uri": "https://localhost:8080/"
        }
      },
      "execution_count": 82,
      "outputs": [
        {
          "output_type": "stream",
          "name": "stdout",
          "text": [
            "Client_Education, Highest level of education ahieved by client\n",
            "Client_Income_Type, Clients income type\n",
            "Client_Income, Client Income in $\n",
            "Client_Education, Highest level of education ahieved by client\n",
            "Client_Marital_Status, Marital status of client (D- Divorced, S- Single, M- Married, W- Widowed)\n",
            "Client_Gender, Gender of the Client\n",
            "Age_Days, Age of the client at the time of application submission\n",
            "Type_Organization, Type of organization where client works\n",
            "Social_Circle_Default, How many friends/family member of client defaulted on any loan payment in last 60 days\n",
            "ID_Days, Days before the loan application, the client changed his/her identity document with which the loan was applied\n"
          ]
        }
      ]
    },
    {
      "cell_type": "code",
      "source": [
        "for col in collateral_vars:\n",
        "  print(f\"{col}, {define_var(var_name=col)}\")"
      ],
      "metadata": {
        "id": "pIy0IWlqupJw",
        "outputId": "7c793f7e-964f-4c95-e1f7-370053338847",
        "colab": {
          "base_uri": "https://localhost:8080/"
        }
      },
      "execution_count": 83,
      "outputs": [
        {
          "output_type": "stream",
          "name": "stdout",
          "text": [
            "Car_Owned, Any Car owned by client before applying for the loan for another car (0 means No and 1 means otherwise)\n",
            "Bike_Owned, Any bike owned by client (0 means No and 1 means otherwise)\n",
            "House_Own, Any house owned by client (0 means No and 1 means otherwise)\n"
          ]
        }
      ]
    },
    {
      "cell_type": "code",
      "source": [
        "rows, columns = data.shape\n",
        "\n",
        "print(f\"The number of rows: {rows} and columns: {columns} are as follows\")"
      ],
      "metadata": {
        "id": "_v32u0Jql4Z5",
        "outputId": "e3d6b6ec-3ad6-4a7a-d433-59b1ac263292",
        "colab": {
          "base_uri": "https://localhost:8080/"
        }
      },
      "execution_count": 84,
      "outputs": [
        {
          "output_type": "stream",
          "name": "stdout",
          "text": [
            "The number of rows: 121856 and columns: 40 are as follows\n"
          ]
        }
      ]
    },
    {
      "cell_type": "code",
      "source": [
        "(data.isnull().sum()/data.shape[0]).loc[data.isnull().sum()==0]"
      ],
      "metadata": {
        "id": "V4nlKWndl4w0",
        "outputId": "2cd8b515-a24d-4e32-8d21-af3c5c8df8e0",
        "colab": {
          "base_uri": "https://localhost:8080/"
        }
      },
      "execution_count": 85,
      "outputs": [
        {
          "output_type": "execute_result",
          "data": {
            "text/plain": [
              "ID                            0.0\n",
              "Mobile_Tag                    0.0\n",
              "Homephone_Tag                 0.0\n",
              "Workphone_Working             0.0\n",
              "Client_Permanent_Match_Tag    0.0\n",
              "Client_Contact_Work_Tag       0.0\n",
              "Default                       0.0\n",
              "dtype: float64"
            ]
          },
          "metadata": {},
          "execution_count": 85
        }
      ]
    },
    {
      "cell_type": "code",
      "source": [
        "define_var(var_name=\"Mobile_Tag\")"
      ],
      "metadata": {
        "id": "87DkjHyDqBxG",
        "outputId": "07d1a8db-4b2c-4c85-ac63-781ab691926b",
        "colab": {
          "base_uri": "https://localhost:8080/",
          "height": 36
        }
      },
      "execution_count": 86,
      "outputs": [
        {
          "output_type": "execute_result",
          "data": {
            "text/plain": [
              "'Mobile Number provided by Client (1 means Yes and 0 means No)'"
            ],
            "application/vnd.google.colaboratory.intrinsic+json": {
              "type": "string"
            }
          },
          "metadata": {},
          "execution_count": 86
        }
      ]
    },
    {
      "cell_type": "code",
      "source": [
        "define_var(var_name=\"Homephone_Tag\")"
      ],
      "metadata": {
        "id": "J71mLrwVqqSU",
        "outputId": "004a3097-7d3b-4fde-93b1-a519fd130fc6",
        "colab": {
          "base_uri": "https://localhost:8080/",
          "height": 36
        }
      },
      "execution_count": 87,
      "outputs": [
        {
          "output_type": "execute_result",
          "data": {
            "text/plain": [
              "'Homephone Number provided by Client (1 means Yes and 0 means No)'"
            ],
            "application/vnd.google.colaboratory.intrinsic+json": {
              "type": "string"
            }
          },
          "metadata": {},
          "execution_count": 87
        }
      ]
    },
    {
      "cell_type": "code",
      "source": [
        "define_var(var_name=\"Workphone_Working\")"
      ],
      "metadata": {
        "id": "nLOjL-e5qxk2",
        "outputId": "24b3aecf-c2f3-443e-b713-f51817ae0ea5",
        "colab": {
          "base_uri": "https://localhost:8080/",
          "height": 36
        }
      },
      "execution_count": 88,
      "outputs": [
        {
          "output_type": "execute_result",
          "data": {
            "text/plain": [
              "'Was workphone number reachable (1 means Yes and 0 means No)'"
            ],
            "application/vnd.google.colaboratory.intrinsic+json": {
              "type": "string"
            }
          },
          "metadata": {},
          "execution_count": 88
        }
      ]
    },
    {
      "cell_type": "code",
      "source": [
        "define_var(var_name=\"Client_Permanent_Match_Tag\")"
      ],
      "metadata": {
        "id": "GVIH6Ykbq4mi",
        "outputId": "f5939f99-db54-4f48-f36f-13417a0d41f0",
        "colab": {
          "base_uri": "https://localhost:8080/",
          "height": 36
        }
      },
      "execution_count": 89,
      "outputs": [
        {
          "output_type": "execute_result",
          "data": {
            "text/plain": [
              "'Indication if client contact address does not match permanent address.'"
            ],
            "application/vnd.google.colaboratory.intrinsic+json": {
              "type": "string"
            }
          },
          "metadata": {},
          "execution_count": 89
        }
      ]
    },
    {
      "cell_type": "code",
      "source": [
        "define_var(var_name=\"Client_Contact_Work_Tag\")"
      ],
      "metadata": {
        "id": "FTFJU_bZq7gq",
        "outputId": "090d3956-7127-4a3b-b52f-4cc40d1fce7f",
        "colab": {
          "base_uri": "https://localhost:8080/",
          "height": 36
        }
      },
      "execution_count": 90,
      "outputs": [
        {
          "output_type": "execute_result",
          "data": {
            "text/plain": [
              "'Indication if client work address does not match contact address.'"
            ],
            "application/vnd.google.colaboratory.intrinsic+json": {
              "type": "string"
            }
          },
          "metadata": {},
          "execution_count": 90
        }
      ]
    },
    {
      "cell_type": "code",
      "source": [
        "define_var(var_name=\"Own_House_Age\")"
      ],
      "metadata": {
        "id": "sT5SrTbUrzuX",
        "outputId": "ab4431c8-f82e-4035-d04d-eca2edc163f0",
        "colab": {
          "base_uri": "https://localhost:8080/",
          "height": 36
        }
      },
      "execution_count": 91,
      "outputs": [
        {
          "output_type": "execute_result",
          "data": {
            "text/plain": [
              "\"Age of Client's house in years\""
            ],
            "application/vnd.google.colaboratory.intrinsic+json": {
              "type": "string"
            }
          },
          "metadata": {},
          "execution_count": 91
        }
      ]
    },
    {
      "cell_type": "code",
      "source": [
        "define_var(var_name=\"ID_Days\")"
      ],
      "metadata": {
        "id": "beTwbKJer3rG",
        "outputId": "15ef4a2c-bad0-4ecf-f2c2-ac5567277e13",
        "colab": {
          "base_uri": "https://localhost:8080/",
          "height": 36
        }
      },
      "execution_count": 92,
      "outputs": [
        {
          "output_type": "execute_result",
          "data": {
            "text/plain": [
              "'Days before the loan application, the client changed his/her identity document with which the loan was applied'"
            ],
            "application/vnd.google.colaboratory.intrinsic+json": {
              "type": "string"
            }
          },
          "metadata": {},
          "execution_count": 92
        }
      ]
    },
    {
      "cell_type": "code",
      "source": [
        "define_var(var_name=\"Loan_Annuity\")"
      ],
      "metadata": {
        "id": "clvYdsRx4bou",
        "outputId": "fd6e1c3f-155c-422f-bb32-1513d5bacc3c",
        "colab": {
          "base_uri": "https://localhost:8080/",
          "height": 36
        }
      },
      "execution_count": 98,
      "outputs": [
        {
          "output_type": "execute_result",
          "data": {
            "text/plain": [
              "'Loan annuity in $'"
            ],
            "application/vnd.google.colaboratory.intrinsic+json": {
              "type": "string"
            }
          },
          "metadata": {},
          "execution_count": 98
        }
      ]
    },
    {
      "cell_type": "code",
      "source": [
        "def null_status():\n",
        "  return ((data.isnull().sum()*100/data.shape[0]).loc[data.isnull().sum()!=0]).sort_values(ascending=False)"
      ],
      "metadata": {
        "id": "Dto-jBLtq_ew"
      },
      "execution_count": 93,
      "outputs": []
    },
    {
      "cell_type": "code",
      "source": [
        "null_status()"
      ],
      "metadata": {
        "id": "xU0MZcYR0scZ",
        "outputId": "4fb72d05-c08c-4563-a3e7-bf1b136510fb",
        "colab": {
          "base_uri": "https://localhost:8080/"
        }
      },
      "execution_count": 94,
      "outputs": [
        {
          "output_type": "execute_result",
          "data": {
            "text/plain": [
              "Own_House_Age                 65.729221\n",
              "Score_Source_1                56.488806\n",
              "Social_Circle_Default         50.820641\n",
              "Client_Occupation             34.003250\n",
              "Score_Source_3                22.092470\n",
              "Credit_Bureau                 15.214680\n",
              "ID_Days                        4.897584\n",
              "Score_Source_2                 4.666163\n",
              "Population_Region_Relative     3.985852\n",
              "Loan_Annuity                   3.948923\n",
              "Client_Income_Type             3.037191\n",
              "Client_Housing_Type            3.025702\n",
              "Phone_Change                   3.006828\n",
              "Application_Process_Hour       3.006007\n",
              "House_Own                      3.004366\n",
              "Loan_Contract_Type             2.996159\n",
              "Employed_Days                  2.994518\n",
              "Client_Education               2.991236\n",
              "Child_Count                    2.985491\n",
              "Active_Loan                    2.983029\n",
              "Credit_Amount                  2.980567\n",
              "Bike_Owned                     2.974002\n",
              "Registration_Days              2.965796\n",
              "Type_Organization              2.961692\n",
              "Client_Income                  2.960051\n",
              "Age_Days                       2.954307\n",
              "Car_Owned                      2.938715\n",
              "Client_Marital_Status          2.850085\n",
              "Application_Process_Day        1.992516\n",
              "Client_Gender                  1.980206\n",
              "Client_Family_Members          1.977744\n",
              "Cleint_City_Rating             1.976924\n",
              "Accompany_Client               1.432839\n",
              "dtype: float64"
            ]
          },
          "metadata": {},
          "execution_count": 94
        }
      ]
    },
    {
      "cell_type": "code",
      "source": [
        "data.info()"
      ],
      "metadata": {
        "id": "Kc_-x4X02aiT",
        "outputId": "43c28723-76a9-47a1-a4c8-25bb1aa7f530",
        "colab": {
          "base_uri": "https://localhost:8080/"
        }
      },
      "execution_count": 95,
      "outputs": [
        {
          "output_type": "stream",
          "name": "stdout",
          "text": [
            "<class 'pandas.core.frame.DataFrame'>\n",
            "RangeIndex: 121856 entries, 0 to 121855\n",
            "Data columns (total 40 columns):\n",
            " #   Column                      Non-Null Count   Dtype  \n",
            "---  ------                      --------------   -----  \n",
            " 0   ID                          121856 non-null  int64  \n",
            " 1   Client_Income               118249 non-null  object \n",
            " 2   Car_Owned                   118275 non-null  float64\n",
            " 3   Bike_Owned                  118232 non-null  float64\n",
            " 4   Active_Loan                 118221 non-null  float64\n",
            " 5   House_Own                   118195 non-null  float64\n",
            " 6   Child_Count                 118218 non-null  float64\n",
            " 7   Credit_Amount               118224 non-null  object \n",
            " 8   Loan_Annuity                117044 non-null  object \n",
            " 9   Accompany_Client            120110 non-null  object \n",
            " 10  Client_Income_Type          118155 non-null  object \n",
            " 11  Client_Education            118211 non-null  object \n",
            " 12  Client_Marital_Status       118383 non-null  object \n",
            " 13  Client_Gender               119443 non-null  object \n",
            " 14  Loan_Contract_Type          118205 non-null  object \n",
            " 15  Client_Housing_Type         118169 non-null  object \n",
            " 16  Population_Region_Relative  116999 non-null  object \n",
            " 17  Age_Days                    118256 non-null  object \n",
            " 18  Employed_Days               118207 non-null  object \n",
            " 19  Registration_Days           118242 non-null  object \n",
            " 20  ID_Days                     115888 non-null  object \n",
            " 21  Own_House_Age               41761 non-null   float64\n",
            " 22  Mobile_Tag                  121856 non-null  int64  \n",
            " 23  Homephone_Tag               121856 non-null  int64  \n",
            " 24  Workphone_Working           121856 non-null  int64  \n",
            " 25  Client_Occupation           80421 non-null   object \n",
            " 26  Client_Family_Members       119446 non-null  float64\n",
            " 27  Cleint_City_Rating          119447 non-null  float64\n",
            " 28  Application_Process_Day     119428 non-null  float64\n",
            " 29  Application_Process_Hour    118193 non-null  float64\n",
            " 30  Client_Permanent_Match_Tag  121856 non-null  object \n",
            " 31  Client_Contact_Work_Tag     121856 non-null  object \n",
            " 32  Type_Organization           118247 non-null  object \n",
            " 33  Score_Source_1              53021 non-null   float64\n",
            " 34  Score_Source_2              116170 non-null  float64\n",
            " 35  Score_Source_3              94935 non-null   object \n",
            " 36  Social_Circle_Default       59928 non-null   float64\n",
            " 37  Phone_Change                118192 non-null  float64\n",
            " 38  Credit_Bureau               103316 non-null  float64\n",
            " 39  Default                     121856 non-null  int64  \n",
            "dtypes: float64(15), int64(5), object(20)\n",
            "memory usage: 37.2+ MB\n"
          ]
        }
      ]
    },
    {
      "cell_type": "code",
      "source": [
        "data.describe()"
      ],
      "metadata": {
        "id": "7bOwror525_v",
        "outputId": "8ad4f975-114a-4714-cf56-07db80f26c3f",
        "colab": {
          "base_uri": "https://localhost:8080/",
          "height": 320
        }
      },
      "execution_count": 97,
      "outputs": [
        {
          "output_type": "execute_result",
          "data": {
            "text/plain": [
              "                 ID      Car_Owned     Bike_Owned    Active_Loan  \\\n",
              "count  1.218560e+05  118275.000000  118232.000000  118221.000000   \n",
              "mean   1.216093e+07       0.342854       0.332262       0.499175   \n",
              "std    3.517694e+04       0.474665       0.471026       0.500001   \n",
              "min    1.210000e+07       0.000000       0.000000       0.000000   \n",
              "25%    1.213046e+07       0.000000       0.000000       0.000000   \n",
              "50%    1.216093e+07       0.000000       0.000000       0.000000   \n",
              "75%    1.219139e+07       1.000000       1.000000       1.000000   \n",
              "max    1.222186e+07       1.000000       1.000000       1.000000   \n",
              "\n",
              "           House_Own    Child_Count  Own_House_Age     Mobile_Tag  \\\n",
              "count  118195.000000  118218.000000   41761.000000  121856.000000   \n",
              "mean        0.692060       0.417779      12.157324       0.999992   \n",
              "std         0.461644       0.728802      12.056079       0.002865   \n",
              "min         0.000000       0.000000       0.000000       0.000000   \n",
              "25%         0.000000       0.000000       5.000000       1.000000   \n",
              "50%         1.000000       0.000000       9.000000       1.000000   \n",
              "75%         1.000000       1.000000      15.000000       1.000000   \n",
              "max         1.000000      19.000000      69.000000       1.000000   \n",
              "\n",
              "       Homephone_Tag  Workphone_Working  Client_Family_Members  \\\n",
              "count  121856.000000      121856.000000          119446.000000   \n",
              "mean        0.200499           0.281201               2.154329   \n",
              "std         0.400375           0.449587               0.912686   \n",
              "min         0.000000           0.000000               1.000000   \n",
              "25%         0.000000           0.000000               2.000000   \n",
              "50%         0.000000           0.000000               2.000000   \n",
              "75%         0.000000           1.000000               3.000000   \n",
              "max         1.000000           1.000000              16.000000   \n",
              "\n",
              "       Cleint_City_Rating  Application_Process_Day  Application_Process_Hour  \\\n",
              "count       119447.000000            119428.000000             118193.000000   \n",
              "mean             2.030038                 3.159736                 12.063100   \n",
              "std              0.504407                 1.759045                  3.280695   \n",
              "min              1.000000                 0.000000                  0.000000   \n",
              "25%              2.000000                 2.000000                 10.000000   \n",
              "50%              2.000000                 3.000000                 12.000000   \n",
              "75%              2.000000                 5.000000                 14.000000   \n",
              "max              3.000000                 6.000000                 23.000000   \n",
              "\n",
              "       Score_Source_1  Score_Source_2  Social_Circle_Default   Phone_Change  \\\n",
              "count    53021.000000   116170.000000           59928.000000  118192.000000   \n",
              "mean         0.501213        0.518625               0.117428     962.106056   \n",
              "std          0.211204        0.740248               0.107974     827.976726   \n",
              "min          0.014568        0.000005               0.000000       0.000000   \n",
              "25%          0.333481        0.390164               0.057700     272.000000   \n",
              "50%          0.504657        0.564978               0.088700     755.000000   \n",
              "75%          0.673890        0.664011               0.148500    1570.000000   \n",
              "max          0.945741      100.000000               1.000000    4185.000000   \n",
              "\n",
              "       Credit_Bureau        Default  \n",
              "count  103316.000000  121856.000000  \n",
              "mean        1.891082       0.080792  \n",
              "std         1.861921       0.272517  \n",
              "min         0.000000       0.000000  \n",
              "25%         0.000000       0.000000  \n",
              "50%         1.000000       0.000000  \n",
              "75%         3.000000       0.000000  \n",
              "max        22.000000       1.000000  "
            ],
            "text/html": [
              "\n",
              "  <div id=\"df-131c75c2-69cd-4e66-ba1d-f946d889d6f2\" class=\"colab-df-container\">\n",
              "    <div>\n",
              "<style scoped>\n",
              "    .dataframe tbody tr th:only-of-type {\n",
              "        vertical-align: middle;\n",
              "    }\n",
              "\n",
              "    .dataframe tbody tr th {\n",
              "        vertical-align: top;\n",
              "    }\n",
              "\n",
              "    .dataframe thead th {\n",
              "        text-align: right;\n",
              "    }\n",
              "</style>\n",
              "<table border=\"1\" class=\"dataframe\">\n",
              "  <thead>\n",
              "    <tr style=\"text-align: right;\">\n",
              "      <th></th>\n",
              "      <th>ID</th>\n",
              "      <th>Car_Owned</th>\n",
              "      <th>Bike_Owned</th>\n",
              "      <th>Active_Loan</th>\n",
              "      <th>House_Own</th>\n",
              "      <th>Child_Count</th>\n",
              "      <th>Own_House_Age</th>\n",
              "      <th>Mobile_Tag</th>\n",
              "      <th>Homephone_Tag</th>\n",
              "      <th>Workphone_Working</th>\n",
              "      <th>Client_Family_Members</th>\n",
              "      <th>Cleint_City_Rating</th>\n",
              "      <th>Application_Process_Day</th>\n",
              "      <th>Application_Process_Hour</th>\n",
              "      <th>Score_Source_1</th>\n",
              "      <th>Score_Source_2</th>\n",
              "      <th>Social_Circle_Default</th>\n",
              "      <th>Phone_Change</th>\n",
              "      <th>Credit_Bureau</th>\n",
              "      <th>Default</th>\n",
              "    </tr>\n",
              "  </thead>\n",
              "  <tbody>\n",
              "    <tr>\n",
              "      <th>count</th>\n",
              "      <td>1.218560e+05</td>\n",
              "      <td>118275.000000</td>\n",
              "      <td>118232.000000</td>\n",
              "      <td>118221.000000</td>\n",
              "      <td>118195.000000</td>\n",
              "      <td>118218.000000</td>\n",
              "      <td>41761.000000</td>\n",
              "      <td>121856.000000</td>\n",
              "      <td>121856.000000</td>\n",
              "      <td>121856.000000</td>\n",
              "      <td>119446.000000</td>\n",
              "      <td>119447.000000</td>\n",
              "      <td>119428.000000</td>\n",
              "      <td>118193.000000</td>\n",
              "      <td>53021.000000</td>\n",
              "      <td>116170.000000</td>\n",
              "      <td>59928.000000</td>\n",
              "      <td>118192.000000</td>\n",
              "      <td>103316.000000</td>\n",
              "      <td>121856.000000</td>\n",
              "    </tr>\n",
              "    <tr>\n",
              "      <th>mean</th>\n",
              "      <td>1.216093e+07</td>\n",
              "      <td>0.342854</td>\n",
              "      <td>0.332262</td>\n",
              "      <td>0.499175</td>\n",
              "      <td>0.692060</td>\n",
              "      <td>0.417779</td>\n",
              "      <td>12.157324</td>\n",
              "      <td>0.999992</td>\n",
              "      <td>0.200499</td>\n",
              "      <td>0.281201</td>\n",
              "      <td>2.154329</td>\n",
              "      <td>2.030038</td>\n",
              "      <td>3.159736</td>\n",
              "      <td>12.063100</td>\n",
              "      <td>0.501213</td>\n",
              "      <td>0.518625</td>\n",
              "      <td>0.117428</td>\n",
              "      <td>962.106056</td>\n",
              "      <td>1.891082</td>\n",
              "      <td>0.080792</td>\n",
              "    </tr>\n",
              "    <tr>\n",
              "      <th>std</th>\n",
              "      <td>3.517694e+04</td>\n",
              "      <td>0.474665</td>\n",
              "      <td>0.471026</td>\n",
              "      <td>0.500001</td>\n",
              "      <td>0.461644</td>\n",
              "      <td>0.728802</td>\n",
              "      <td>12.056079</td>\n",
              "      <td>0.002865</td>\n",
              "      <td>0.400375</td>\n",
              "      <td>0.449587</td>\n",
              "      <td>0.912686</td>\n",
              "      <td>0.504407</td>\n",
              "      <td>1.759045</td>\n",
              "      <td>3.280695</td>\n",
              "      <td>0.211204</td>\n",
              "      <td>0.740248</td>\n",
              "      <td>0.107974</td>\n",
              "      <td>827.976726</td>\n",
              "      <td>1.861921</td>\n",
              "      <td>0.272517</td>\n",
              "    </tr>\n",
              "    <tr>\n",
              "      <th>min</th>\n",
              "      <td>1.210000e+07</td>\n",
              "      <td>0.000000</td>\n",
              "      <td>0.000000</td>\n",
              "      <td>0.000000</td>\n",
              "      <td>0.000000</td>\n",
              "      <td>0.000000</td>\n",
              "      <td>0.000000</td>\n",
              "      <td>0.000000</td>\n",
              "      <td>0.000000</td>\n",
              "      <td>0.000000</td>\n",
              "      <td>1.000000</td>\n",
              "      <td>1.000000</td>\n",
              "      <td>0.000000</td>\n",
              "      <td>0.000000</td>\n",
              "      <td>0.014568</td>\n",
              "      <td>0.000005</td>\n",
              "      <td>0.000000</td>\n",
              "      <td>0.000000</td>\n",
              "      <td>0.000000</td>\n",
              "      <td>0.000000</td>\n",
              "    </tr>\n",
              "    <tr>\n",
              "      <th>25%</th>\n",
              "      <td>1.213046e+07</td>\n",
              "      <td>0.000000</td>\n",
              "      <td>0.000000</td>\n",
              "      <td>0.000000</td>\n",
              "      <td>0.000000</td>\n",
              "      <td>0.000000</td>\n",
              "      <td>5.000000</td>\n",
              "      <td>1.000000</td>\n",
              "      <td>0.000000</td>\n",
              "      <td>0.000000</td>\n",
              "      <td>2.000000</td>\n",
              "      <td>2.000000</td>\n",
              "      <td>2.000000</td>\n",
              "      <td>10.000000</td>\n",
              "      <td>0.333481</td>\n",
              "      <td>0.390164</td>\n",
              "      <td>0.057700</td>\n",
              "      <td>272.000000</td>\n",
              "      <td>0.000000</td>\n",
              "      <td>0.000000</td>\n",
              "    </tr>\n",
              "    <tr>\n",
              "      <th>50%</th>\n",
              "      <td>1.216093e+07</td>\n",
              "      <td>0.000000</td>\n",
              "      <td>0.000000</td>\n",
              "      <td>0.000000</td>\n",
              "      <td>1.000000</td>\n",
              "      <td>0.000000</td>\n",
              "      <td>9.000000</td>\n",
              "      <td>1.000000</td>\n",
              "      <td>0.000000</td>\n",
              "      <td>0.000000</td>\n",
              "      <td>2.000000</td>\n",
              "      <td>2.000000</td>\n",
              "      <td>3.000000</td>\n",
              "      <td>12.000000</td>\n",
              "      <td>0.504657</td>\n",
              "      <td>0.564978</td>\n",
              "      <td>0.088700</td>\n",
              "      <td>755.000000</td>\n",
              "      <td>1.000000</td>\n",
              "      <td>0.000000</td>\n",
              "    </tr>\n",
              "    <tr>\n",
              "      <th>75%</th>\n",
              "      <td>1.219139e+07</td>\n",
              "      <td>1.000000</td>\n",
              "      <td>1.000000</td>\n",
              "      <td>1.000000</td>\n",
              "      <td>1.000000</td>\n",
              "      <td>1.000000</td>\n",
              "      <td>15.000000</td>\n",
              "      <td>1.000000</td>\n",
              "      <td>0.000000</td>\n",
              "      <td>1.000000</td>\n",
              "      <td>3.000000</td>\n",
              "      <td>2.000000</td>\n",
              "      <td>5.000000</td>\n",
              "      <td>14.000000</td>\n",
              "      <td>0.673890</td>\n",
              "      <td>0.664011</td>\n",
              "      <td>0.148500</td>\n",
              "      <td>1570.000000</td>\n",
              "      <td>3.000000</td>\n",
              "      <td>0.000000</td>\n",
              "    </tr>\n",
              "    <tr>\n",
              "      <th>max</th>\n",
              "      <td>1.222186e+07</td>\n",
              "      <td>1.000000</td>\n",
              "      <td>1.000000</td>\n",
              "      <td>1.000000</td>\n",
              "      <td>1.000000</td>\n",
              "      <td>19.000000</td>\n",
              "      <td>69.000000</td>\n",
              "      <td>1.000000</td>\n",
              "      <td>1.000000</td>\n",
              "      <td>1.000000</td>\n",
              "      <td>16.000000</td>\n",
              "      <td>3.000000</td>\n",
              "      <td>6.000000</td>\n",
              "      <td>23.000000</td>\n",
              "      <td>0.945741</td>\n",
              "      <td>100.000000</td>\n",
              "      <td>1.000000</td>\n",
              "      <td>4185.000000</td>\n",
              "      <td>22.000000</td>\n",
              "      <td>1.000000</td>\n",
              "    </tr>\n",
              "  </tbody>\n",
              "</table>\n",
              "</div>\n",
              "    <div class=\"colab-df-buttons\">\n",
              "\n",
              "  <div class=\"colab-df-container\">\n",
              "    <button class=\"colab-df-convert\" onclick=\"convertToInteractive('df-131c75c2-69cd-4e66-ba1d-f946d889d6f2')\"\n",
              "            title=\"Convert this dataframe to an interactive table.\"\n",
              "            style=\"display:none;\">\n",
              "\n",
              "  <svg xmlns=\"http://www.w3.org/2000/svg\" height=\"24px\" viewBox=\"0 -960 960 960\">\n",
              "    <path d=\"M120-120v-720h720v720H120Zm60-500h600v-160H180v160Zm220 220h160v-160H400v160Zm0 220h160v-160H400v160ZM180-400h160v-160H180v160Zm440 0h160v-160H620v160ZM180-180h160v-160H180v160Zm440 0h160v-160H620v160Z\"/>\n",
              "  </svg>\n",
              "    </button>\n",
              "\n",
              "  <style>\n",
              "    .colab-df-container {\n",
              "      display:flex;\n",
              "      gap: 12px;\n",
              "    }\n",
              "\n",
              "    .colab-df-convert {\n",
              "      background-color: #E8F0FE;\n",
              "      border: none;\n",
              "      border-radius: 50%;\n",
              "      cursor: pointer;\n",
              "      display: none;\n",
              "      fill: #1967D2;\n",
              "      height: 32px;\n",
              "      padding: 0 0 0 0;\n",
              "      width: 32px;\n",
              "    }\n",
              "\n",
              "    .colab-df-convert:hover {\n",
              "      background-color: #E2EBFA;\n",
              "      box-shadow: 0px 1px 2px rgba(60, 64, 67, 0.3), 0px 1px 3px 1px rgba(60, 64, 67, 0.15);\n",
              "      fill: #174EA6;\n",
              "    }\n",
              "\n",
              "    .colab-df-buttons div {\n",
              "      margin-bottom: 4px;\n",
              "    }\n",
              "\n",
              "    [theme=dark] .colab-df-convert {\n",
              "      background-color: #3B4455;\n",
              "      fill: #D2E3FC;\n",
              "    }\n",
              "\n",
              "    [theme=dark] .colab-df-convert:hover {\n",
              "      background-color: #434B5C;\n",
              "      box-shadow: 0px 1px 3px 1px rgba(0, 0, 0, 0.15);\n",
              "      filter: drop-shadow(0px 1px 2px rgba(0, 0, 0, 0.3));\n",
              "      fill: #FFFFFF;\n",
              "    }\n",
              "  </style>\n",
              "\n",
              "    <script>\n",
              "      const buttonEl =\n",
              "        document.querySelector('#df-131c75c2-69cd-4e66-ba1d-f946d889d6f2 button.colab-df-convert');\n",
              "      buttonEl.style.display =\n",
              "        google.colab.kernel.accessAllowed ? 'block' : 'none';\n",
              "\n",
              "      async function convertToInteractive(key) {\n",
              "        const element = document.querySelector('#df-131c75c2-69cd-4e66-ba1d-f946d889d6f2');\n",
              "        const dataTable =\n",
              "          await google.colab.kernel.invokeFunction('convertToInteractive',\n",
              "                                                    [key], {});\n",
              "        if (!dataTable) return;\n",
              "\n",
              "        const docLinkHtml = 'Like what you see? Visit the ' +\n",
              "          '<a target=\"_blank\" href=https://colab.research.google.com/notebooks/data_table.ipynb>data table notebook</a>'\n",
              "          + ' to learn more about interactive tables.';\n",
              "        element.innerHTML = '';\n",
              "        dataTable['output_type'] = 'display_data';\n",
              "        await google.colab.output.renderOutput(dataTable, element);\n",
              "        const docLink = document.createElement('div');\n",
              "        docLink.innerHTML = docLinkHtml;\n",
              "        element.appendChild(docLink);\n",
              "      }\n",
              "    </script>\n",
              "  </div>\n",
              "\n",
              "\n",
              "<div id=\"df-07c27fcd-1567-48c1-9733-4f3ea510af26\">\n",
              "  <button class=\"colab-df-quickchart\" onclick=\"quickchart('df-07c27fcd-1567-48c1-9733-4f3ea510af26')\"\n",
              "            title=\"Suggest charts\"\n",
              "            style=\"display:none;\">\n",
              "\n",
              "<svg xmlns=\"http://www.w3.org/2000/svg\" height=\"24px\"viewBox=\"0 0 24 24\"\n",
              "     width=\"24px\">\n",
              "    <g>\n",
              "        <path d=\"M19 3H5c-1.1 0-2 .9-2 2v14c0 1.1.9 2 2 2h14c1.1 0 2-.9 2-2V5c0-1.1-.9-2-2-2zM9 17H7v-7h2v7zm4 0h-2V7h2v10zm4 0h-2v-4h2v4z\"/>\n",
              "    </g>\n",
              "</svg>\n",
              "  </button>\n",
              "\n",
              "<style>\n",
              "  .colab-df-quickchart {\n",
              "      --bg-color: #E8F0FE;\n",
              "      --fill-color: #1967D2;\n",
              "      --hover-bg-color: #E2EBFA;\n",
              "      --hover-fill-color: #174EA6;\n",
              "      --disabled-fill-color: #AAA;\n",
              "      --disabled-bg-color: #DDD;\n",
              "  }\n",
              "\n",
              "  [theme=dark] .colab-df-quickchart {\n",
              "      --bg-color: #3B4455;\n",
              "      --fill-color: #D2E3FC;\n",
              "      --hover-bg-color: #434B5C;\n",
              "      --hover-fill-color: #FFFFFF;\n",
              "      --disabled-bg-color: #3B4455;\n",
              "      --disabled-fill-color: #666;\n",
              "  }\n",
              "\n",
              "  .colab-df-quickchart {\n",
              "    background-color: var(--bg-color);\n",
              "    border: none;\n",
              "    border-radius: 50%;\n",
              "    cursor: pointer;\n",
              "    display: none;\n",
              "    fill: var(--fill-color);\n",
              "    height: 32px;\n",
              "    padding: 0;\n",
              "    width: 32px;\n",
              "  }\n",
              "\n",
              "  .colab-df-quickchart:hover {\n",
              "    background-color: var(--hover-bg-color);\n",
              "    box-shadow: 0 1px 2px rgba(60, 64, 67, 0.3), 0 1px 3px 1px rgba(60, 64, 67, 0.15);\n",
              "    fill: var(--button-hover-fill-color);\n",
              "  }\n",
              "\n",
              "  .colab-df-quickchart-complete:disabled,\n",
              "  .colab-df-quickchart-complete:disabled:hover {\n",
              "    background-color: var(--disabled-bg-color);\n",
              "    fill: var(--disabled-fill-color);\n",
              "    box-shadow: none;\n",
              "  }\n",
              "\n",
              "  .colab-df-spinner {\n",
              "    border: 2px solid var(--fill-color);\n",
              "    border-color: transparent;\n",
              "    border-bottom-color: var(--fill-color);\n",
              "    animation:\n",
              "      spin 1s steps(1) infinite;\n",
              "  }\n",
              "\n",
              "  @keyframes spin {\n",
              "    0% {\n",
              "      border-color: transparent;\n",
              "      border-bottom-color: var(--fill-color);\n",
              "      border-left-color: var(--fill-color);\n",
              "    }\n",
              "    20% {\n",
              "      border-color: transparent;\n",
              "      border-left-color: var(--fill-color);\n",
              "      border-top-color: var(--fill-color);\n",
              "    }\n",
              "    30% {\n",
              "      border-color: transparent;\n",
              "      border-left-color: var(--fill-color);\n",
              "      border-top-color: var(--fill-color);\n",
              "      border-right-color: var(--fill-color);\n",
              "    }\n",
              "    40% {\n",
              "      border-color: transparent;\n",
              "      border-right-color: var(--fill-color);\n",
              "      border-top-color: var(--fill-color);\n",
              "    }\n",
              "    60% {\n",
              "      border-color: transparent;\n",
              "      border-right-color: var(--fill-color);\n",
              "    }\n",
              "    80% {\n",
              "      border-color: transparent;\n",
              "      border-right-color: var(--fill-color);\n",
              "      border-bottom-color: var(--fill-color);\n",
              "    }\n",
              "    90% {\n",
              "      border-color: transparent;\n",
              "      border-bottom-color: var(--fill-color);\n",
              "    }\n",
              "  }\n",
              "</style>\n",
              "\n",
              "  <script>\n",
              "    async function quickchart(key) {\n",
              "      const quickchartButtonEl =\n",
              "        document.querySelector('#' + key + ' button');\n",
              "      quickchartButtonEl.disabled = true;  // To prevent multiple clicks.\n",
              "      quickchartButtonEl.classList.add('colab-df-spinner');\n",
              "      try {\n",
              "        const charts = await google.colab.kernel.invokeFunction(\n",
              "            'suggestCharts', [key], {});\n",
              "      } catch (error) {\n",
              "        console.error('Error during call to suggestCharts:', error);\n",
              "      }\n",
              "      quickchartButtonEl.classList.remove('colab-df-spinner');\n",
              "      quickchartButtonEl.classList.add('colab-df-quickchart-complete');\n",
              "    }\n",
              "    (() => {\n",
              "      let quickchartButtonEl =\n",
              "        document.querySelector('#df-07c27fcd-1567-48c1-9733-4f3ea510af26 button');\n",
              "      quickchartButtonEl.style.display =\n",
              "        google.colab.kernel.accessAllowed ? 'block' : 'none';\n",
              "    })();\n",
              "  </script>\n",
              "</div>\n",
              "\n",
              "    </div>\n",
              "  </div>\n"
            ],
            "application/vnd.google.colaboratory.intrinsic+json": {
              "type": "dataframe",
              "summary": "{\n  \"name\": \"data\",\n  \"rows\": 8,\n  \"fields\": [\n    {\n      \"column\": \"ID\",\n      \"properties\": {\n        \"dtype\": \"number\",\n        \"std\": 5593236.447409102,\n        \"min\": 35176.9415384567,\n        \"max\": 12221856.0,\n        \"num_unique_values\": 7,\n        \"samples\": [\n          121856.0,\n          12160928.5,\n          12191392.25\n        ],\n        \"semantic_type\": \"\",\n        \"description\": \"\"\n      }\n    },\n    {\n      \"column\": \"Car_Owned\",\n      \"properties\": {\n        \"dtype\": \"number\",\n        \"std\": 41816.38496830778,\n        \"min\": 0.0,\n        \"max\": 118275.0,\n        \"num_unique_values\": 5,\n        \"samples\": [\n          0.34285351934052,\n          1.0,\n          0.4746650277377408\n        ],\n        \"semantic_type\": \"\",\n        \"description\": \"\"\n      }\n    },\n    {\n      \"column\": \"Bike_Owned\",\n      \"properties\": {\n        \"dtype\": \"number\",\n        \"std\": 41801.18289124745,\n        \"min\": 0.0,\n        \"max\": 118232.0,\n        \"num_unique_values\": 5,\n        \"samples\": [\n          0.3322619933689695,\n          1.0,\n          0.4710263662057186\n        ],\n        \"semantic_type\": \"\",\n        \"description\": \"\"\n      }\n    },\n    {\n      \"column\": \"Active_Loan\",\n      \"properties\": {\n        \"dtype\": \"number\",\n        \"std\": 41797.283910103186,\n        \"min\": 0.0,\n        \"max\": 118221.0,\n        \"num_unique_values\": 5,\n        \"samples\": [\n          0.4991752734285787,\n          1.0,\n          0.5000014345196753\n        ],\n        \"semantic_type\": \"\",\n        \"description\": \"\"\n      }\n    },\n    {\n      \"column\": \"House_Own\",\n      \"properties\": {\n        \"dtype\": \"number\",\n        \"std\": 41788.033209567664,\n        \"min\": 0.0,\n        \"max\": 118195.0,\n        \"num_unique_values\": 5,\n        \"samples\": [\n          0.6920597317991455,\n          1.0,\n          0.4616436531565591\n        ],\n        \"semantic_type\": \"\",\n        \"description\": \"\"\n      }\n    },\n    {\n      \"column\": \"Child_Count\",\n      \"properties\": {\n        \"dtype\": \"number\",\n        \"std\": 41795.30717619424,\n        \"min\": 0.0,\n        \"max\": 118218.0,\n        \"num_unique_values\": 6,\n        \"samples\": [\n          118218.0,\n          0.41777901842359033,\n          19.0\n        ],\n        \"semantic_type\": \"\",\n        \"description\": \"\"\n      }\n    },\n    {\n      \"column\": \"Own_House_Age\",\n      \"properties\": {\n        \"dtype\": \"number\",\n        \"std\": 14758.586171769286,\n        \"min\": 0.0,\n        \"max\": 41761.0,\n        \"num_unique_values\": 8,\n        \"samples\": [\n          12.157323818874069,\n          9.0,\n          41761.0\n        ],\n        \"semantic_type\": \"\",\n        \"description\": \"\"\n      }\n    },\n    {\n      \"column\": \"Mobile_Tag\",\n      \"properties\": {\n        \"dtype\": \"number\",\n        \"std\": 43082.349284085714,\n        \"min\": 0.0,\n        \"max\": 121856.0,\n        \"num_unique_values\": 5,\n        \"samples\": [\n          0.999991793592437,\n          1.0,\n          0.0028646828032131604\n        ],\n        \"semantic_type\": \"\",\n        \"description\": \"\"\n      }\n    },\n    {\n      \"column\": \"Homephone_Tag\",\n      \"properties\": {\n        \"dtype\": \"number\",\n        \"std\": 43082.521109154004,\n        \"min\": 0.0,\n        \"max\": 121856.0,\n        \"num_unique_values\": 5,\n        \"samples\": [\n          0.20049894957983194,\n          1.0,\n          0.4003753692323351\n        ],\n        \"semantic_type\": \"\",\n        \"description\": \"\"\n      }\n    },\n    {\n      \"column\": \"Workphone_Working\",\n      \"properties\": {\n        \"dtype\": \"number\",\n        \"std\": 43082.46404053498,\n        \"min\": 0.0,\n        \"max\": 121856.0,\n        \"num_unique_values\": 5,\n        \"samples\": [\n          0.28120076155462187,\n          1.0,\n          0.4495870905675567\n        ],\n        \"semantic_type\": \"\",\n        \"description\": \"\"\n      }\n    },\n    {\n      \"column\": \"Client_Family_Members\",\n      \"properties\": {\n        \"dtype\": \"number\",\n        \"std\": 42229.171497799725,\n        \"min\": 0.9126856370992722,\n        \"max\": 119446.0,\n        \"num_unique_values\": 7,\n        \"samples\": [\n          119446.0,\n          2.1543291529226596,\n          3.0\n        ],\n        \"semantic_type\": \"\",\n        \"description\": \"\"\n      }\n    },\n    {\n      \"column\": \"Cleint_City_Rating\",\n      \"properties\": {\n        \"dtype\": \"number\",\n        \"std\": 42230.25876774475,\n        \"min\": 0.5044070312312919,\n        \"max\": 119447.0,\n        \"num_unique_values\": 6,\n        \"samples\": [\n          119447.0,\n          2.0300384270848157,\n          3.0\n        ],\n        \"semantic_type\": \"\",\n        \"description\": \"\"\n      }\n    },\n    {\n      \"column\": \"Application_Process_Day\",\n      \"properties\": {\n        \"dtype\": \"number\",\n        \"std\": 42223.11781531683,\n        \"min\": 0.0,\n        \"max\": 119428.0,\n        \"num_unique_values\": 8,\n        \"samples\": [\n          3.1597364102220586,\n          3.0,\n          119428.0\n        ],\n        \"semantic_type\": \"\",\n        \"description\": \"\"\n      }\n    },\n    {\n      \"column\": \"Application_Process_Hour\",\n      \"properties\": {\n        \"dtype\": \"number\",\n        \"std\": 41783.78153960831,\n        \"min\": 0.0,\n        \"max\": 118193.0,\n        \"num_unique_values\": 8,\n        \"samples\": [\n          12.063100183598014,\n          12.0,\n          118193.0\n        ],\n        \"semantic_type\": \"\",\n        \"description\": \"\"\n      }\n    },\n    {\n      \"column\": \"Score_Source_1\",\n      \"properties\": {\n        \"dtype\": \"number\",\n        \"std\": 18745.593470414555,\n        \"min\": 0.014568132,\n        \"max\": 53021.0,\n        \"num_unique_values\": 8,\n        \"samples\": [\n          0.5012129250527902,\n          0.504656688,\n          53021.0\n        ],\n        \"semantic_type\": \"\",\n        \"description\": \"\"\n      }\n    },\n    {\n      \"column\": \"Score_Source_2\",\n      \"properties\": {\n        \"dtype\": \"number\",\n        \"std\": 41067.11602626691,\n        \"min\": 5e-06,\n        \"max\": 116170.0,\n        \"num_unique_values\": 8,\n        \"samples\": [\n          0.5186248226373849,\n          0.564978137,\n          116170.0\n        ],\n        \"semantic_type\": \"\",\n        \"description\": \"\"\n      }\n    },\n    {\n      \"column\": \"Social_Circle_Default\",\n      \"properties\": {\n        \"dtype\": \"number\",\n        \"std\": 21187.670807099203,\n        \"min\": 0.0,\n        \"max\": 59928.0,\n        \"num_unique_values\": 8,\n        \"samples\": [\n          0.11742785509277799,\n          0.0887,\n          59928.0\n        ],\n        \"semantic_type\": \"\",\n        \"description\": \"\"\n      }\n    },\n    {\n      \"column\": \"Phone_Change\",\n      \"properties\": {\n        \"dtype\": \"number\",\n        \"std\": 41374.49456931964,\n        \"min\": 0.0,\n        \"max\": 118192.0,\n        \"num_unique_values\": 8,\n        \"samples\": [\n          962.1060562474618,\n          755.0,\n          118192.0\n        ],\n        \"semantic_type\": \"\",\n        \"description\": \"\"\n      }\n    },\n    {\n      \"column\": \"Credit_Bureau\",\n      \"properties\": {\n        \"dtype\": \"number\",\n        \"std\": 36526.2200814595,\n        \"min\": 0.0,\n        \"max\": 103316.0,\n        \"num_unique_values\": 7,\n        \"samples\": [\n          103316.0,\n          1.8910817298385536,\n          3.0\n        ],\n        \"semantic_type\": \"\",\n        \"description\": \"\"\n      }\n    },\n    {\n      \"column\": \"Default\",\n      \"properties\": {\n        \"dtype\": \"number\",\n        \"std\": 43082.53361307848,\n        \"min\": 0.0,\n        \"max\": 121856.0,\n        \"num_unique_values\": 5,\n        \"samples\": [\n          0.0807920824579832,\n          1.0,\n          0.27251666246609996\n        ],\n        \"semantic_type\": \"\",\n        \"description\": \"\"\n      }\n    }\n  ]\n}"
            }
          },
          "metadata": {},
          "execution_count": 97
        }
      ]
    },
    {
      "cell_type": "markdown",
      "source": [
        "# Missing Value Imputation"
      ],
      "metadata": {
        "id": "uVADDnLq0uGD"
      }
    },
    {
      "cell_type": "markdown",
      "source": [
        "#### House_Own"
      ],
      "metadata": {
        "id": "XXjciSho7zB5"
      }
    },
    {
      "cell_type": "code",
      "source": [
        "data.loc[(data['House_Own'].isnull()) & (data['Own_House_Age'].notnull()), \"House_Own\"] = 1"
      ],
      "metadata": {
        "id": "MxJ_k-vz6NJn"
      },
      "execution_count": 102,
      "outputs": []
    },
    {
      "cell_type": "code",
      "source": [],
      "metadata": {
        "id": "Rs0CSE74vz6o"
      },
      "execution_count": 102,
      "outputs": []
    },
    {
      "cell_type": "markdown",
      "source": [
        "#### Own_House_Age"
      ],
      "metadata": {
        "id": "3UvnUSFe1i0w"
      }
    },
    {
      "cell_type": "code",
      "source": [],
      "metadata": {
        "id": "6i3aAd5q03XA"
      },
      "execution_count": 102,
      "outputs": []
    },
    {
      "cell_type": "code",
      "source": [
        "data['House_Own'].value_counts(1)"
      ],
      "metadata": {
        "id": "4WwEGS7irjUL",
        "outputId": "7c5a2d14-3b24-49e3-a10e-32a899e0bc7a",
        "colab": {
          "base_uri": "https://localhost:8080/"
        }
      },
      "execution_count": 103,
      "outputs": [
        {
          "output_type": "execute_result",
          "data": {
            "text/plain": [
              "House_Own\n",
              "1.0    0.695364\n",
              "0.0    0.304636\n",
              "Name: proportion, dtype: float64"
            ]
          },
          "metadata": {},
          "execution_count": 103
        }
      ]
    },
    {
      "cell_type": "code",
      "source": [
        "# When a person doesn't Own a House then Own_House_Age should be 0\n",
        "data.loc[data['House_Own']==0, 'Own_House_Age'] = 0"
      ],
      "metadata": {
        "id": "30Rp4gROvHBl"
      },
      "execution_count": 104,
      "outputs": []
    },
    {
      "cell_type": "code",
      "source": [
        "collateral_vars"
      ],
      "metadata": {
        "id": "0vZ057WcwD7q",
        "outputId": "0d259a3c-7b22-448b-cd38-bac6482a07a6",
        "colab": {
          "base_uri": "https://localhost:8080/"
        }
      },
      "execution_count": 105,
      "outputs": [
        {
          "output_type": "execute_result",
          "data": {
            "text/plain": [
              "['Car_Owned', 'Bike_Owned', 'House_Own']"
            ]
          },
          "metadata": {},
          "execution_count": 105
        }
      ]
    },
    {
      "cell_type": "code",
      "source": [
        "impute_agg_vars = ['Bike_Owned', 'Car_Owned', 'House_Own']\n",
        "\n",
        "imputation_cases = data.loc[data['House_Own']== 1].groupby(impute_agg_vars)['Own_House_Age'].mean().reset_index().to_dict(orient='records')\n",
        "for i in imputation_cases:\n",
        "  # data\n",
        "  print(i)\n",
        "  data.loc[(data['Own_House_Age'].isnull())\n",
        "  & (data['Bike_Owned'] == i['Bike_Owned'])\n",
        "  & (data['Car_Owned'] == i['Car_Owned'])\n",
        "  & (data['House_Own'] == i['House_Own']), ['Own_House_Age']] = i['Own_House_Age']"
      ],
      "metadata": {
        "id": "d4UvB4w3yHQQ",
        "outputId": "d9efc57a-0c51-4369-d225-e01d1dfc8a76",
        "colab": {
          "base_uri": "https://localhost:8080/"
        }
      },
      "execution_count": 106,
      "outputs": [
        {
          "output_type": "stream",
          "name": "stdout",
          "text": [
            "{'Bike_Owned': 0.0, 'Car_Owned': 0.0, 'House_Own': 1.0, 'Own_House_Age': nan}\n",
            "{'Bike_Owned': 0.0, 'Car_Owned': 1.0, 'House_Own': 1.0, 'Own_House_Age': 12.129669970591438}\n",
            "{'Bike_Owned': 1.0, 'Car_Owned': 0.0, 'House_Own': 1.0, 'Own_House_Age': nan}\n",
            "{'Bike_Owned': 1.0, 'Car_Owned': 1.0, 'House_Own': 1.0, 'Own_House_Age': 12.320521316545173}\n"
          ]
        }
      ]
    },
    {
      "cell_type": "code",
      "source": [
        "impute_agg_vars = ['Bike_Owned', 'House_Own']\n",
        "\n",
        "imputation_cases = data.loc[data['House_Own']== 1].groupby(impute_agg_vars)['Own_House_Age'].mean().reset_index().to_dict(orient='records')\n",
        "for i in imputation_cases:\n",
        "  # data\n",
        "  print(i)\n",
        "  data.loc[(data['Own_House_Age'].isnull())\n",
        "  & (data['Bike_Owned'] == i['Bike_Owned'])\n",
        "  & (data['House_Own'] == i['House_Own']), ['Own_House_Age']] = i['Own_House_Age']"
      ],
      "metadata": {
        "id": "YaWwHyQFz417",
        "outputId": "47ee807c-f5b9-492f-fe29-d5aa092418f4",
        "colab": {
          "base_uri": "https://localhost:8080/"
        }
      },
      "execution_count": 107,
      "outputs": [
        {
          "output_type": "stream",
          "name": "stdout",
          "text": [
            "{'Bike_Owned': 0.0, 'House_Own': 1.0, 'Own_House_Age': 12.100216713356943}\n",
            "{'Bike_Owned': 1.0, 'House_Own': 1.0, 'Own_House_Age': 12.292536674162116}\n"
          ]
        }
      ]
    },
    {
      "cell_type": "code",
      "source": [
        "impute_agg_vars = ['House_Own']\n",
        "\n",
        "imputation_cases = data.loc[data['House_Own']== 1].groupby(impute_agg_vars)['Own_House_Age'].mean().reset_index().to_dict(orient='records')\n",
        "for i in imputation_cases:\n",
        "  # data\n",
        "  print(i)\n",
        "  data.loc[(data['Own_House_Age'].isnull())\n",
        "  & (data['House_Own'] == i['House_Own']), ['Own_House_Age']] = i['Own_House_Age']"
      ],
      "metadata": {
        "id": "3L9P_A0x0XAh",
        "outputId": "cc6078f9-f151-4223-b27f-275218fdbfe1",
        "colab": {
          "base_uri": "https://localhost:8080/"
        }
      },
      "execution_count": 108,
      "outputs": [
        {
          "output_type": "stream",
          "name": "stdout",
          "text": [
            "{'House_Own': 1.0, 'Own_House_Age': 12.168419121412022}\n"
          ]
        }
      ]
    },
    {
      "cell_type": "code",
      "source": [
        "null_status()"
      ],
      "metadata": {
        "id": "ZT21hJCUzKWL",
        "outputId": "d44a67a7-f4cd-4f47-de18-f8c9053f9463",
        "colab": {
          "base_uri": "https://localhost:8080/"
        }
      },
      "execution_count": 109,
      "outputs": [
        {
          "output_type": "execute_result",
          "data": {
            "text/plain": [
              "Score_Source_1                56.488806\n",
              "Social_Circle_Default         50.820641\n",
              "Client_Occupation             34.003250\n",
              "Score_Source_3                22.092470\n",
              "Credit_Bureau                 15.214680\n",
              "ID_Days                        4.897584\n",
              "Score_Source_2                 4.666163\n",
              "Population_Region_Relative     3.985852\n",
              "Loan_Annuity                   3.948923\n",
              "Client_Income_Type             3.037191\n",
              "Client_Housing_Type            3.025702\n",
              "Phone_Change                   3.006828\n",
              "Application_Process_Hour       3.006007\n",
              "Loan_Contract_Type             2.996159\n",
              "Employed_Days                  2.994518\n",
              "Client_Education               2.991236\n",
              "Child_Count                    2.985491\n",
              "Active_Loan                    2.983029\n",
              "Credit_Amount                  2.980567\n",
              "Bike_Owned                     2.974002\n",
              "Registration_Days              2.965796\n",
              "Type_Organization              2.961692\n",
              "Client_Income                  2.960051\n",
              "Age_Days                       2.954307\n",
              "Car_Owned                      2.938715\n",
              "Client_Marital_Status          2.850085\n",
              "Application_Process_Day        1.992516\n",
              "Client_Gender                  1.980206\n",
              "Client_Family_Members          1.977744\n",
              "Cleint_City_Rating             1.976924\n",
              "Own_House_Age                  1.952304\n",
              "House_Own                      1.952304\n",
              "Accompany_Client               1.432839\n",
              "dtype: float64"
            ]
          },
          "metadata": {},
          "execution_count": 109
        }
      ]
    },
    {
      "cell_type": "code",
      "source": [
        "data.loc[data['Own_House_Age'].isnull(), collateral_vars]"
      ],
      "metadata": {
        "id": "cLuyYdYutkqT",
        "outputId": "a07132f6-4b6a-43ed-d310-376b37caaaf8",
        "colab": {
          "base_uri": "https://localhost:8080/",
          "height": 423
        }
      },
      "execution_count": 110,
      "outputs": [
        {
          "output_type": "execute_result",
          "data": {
            "text/plain": [
              "        Car_Owned  Bike_Owned  House_Own\n",
              "140           0.0         1.0        NaN\n",
              "228           0.0         NaN        NaN\n",
              "322           0.0         1.0        NaN\n",
              "337           0.0         0.0        NaN\n",
              "374           0.0         0.0        NaN\n",
              "...           ...         ...        ...\n",
              "121720        0.0         0.0        NaN\n",
              "121725        0.0         1.0        NaN\n",
              "121745        NaN         0.0        NaN\n",
              "121795        0.0         0.0        NaN\n",
              "121832        0.0         0.0        NaN\n",
              "\n",
              "[2379 rows x 3 columns]"
            ],
            "text/html": [
              "\n",
              "  <div id=\"df-a15a6b53-45fc-4091-8a44-e526a5d1682d\" class=\"colab-df-container\">\n",
              "    <div>\n",
              "<style scoped>\n",
              "    .dataframe tbody tr th:only-of-type {\n",
              "        vertical-align: middle;\n",
              "    }\n",
              "\n",
              "    .dataframe tbody tr th {\n",
              "        vertical-align: top;\n",
              "    }\n",
              "\n",
              "    .dataframe thead th {\n",
              "        text-align: right;\n",
              "    }\n",
              "</style>\n",
              "<table border=\"1\" class=\"dataframe\">\n",
              "  <thead>\n",
              "    <tr style=\"text-align: right;\">\n",
              "      <th></th>\n",
              "      <th>Car_Owned</th>\n",
              "      <th>Bike_Owned</th>\n",
              "      <th>House_Own</th>\n",
              "    </tr>\n",
              "  </thead>\n",
              "  <tbody>\n",
              "    <tr>\n",
              "      <th>140</th>\n",
              "      <td>0.0</td>\n",
              "      <td>1.0</td>\n",
              "      <td>NaN</td>\n",
              "    </tr>\n",
              "    <tr>\n",
              "      <th>228</th>\n",
              "      <td>0.0</td>\n",
              "      <td>NaN</td>\n",
              "      <td>NaN</td>\n",
              "    </tr>\n",
              "    <tr>\n",
              "      <th>322</th>\n",
              "      <td>0.0</td>\n",
              "      <td>1.0</td>\n",
              "      <td>NaN</td>\n",
              "    </tr>\n",
              "    <tr>\n",
              "      <th>337</th>\n",
              "      <td>0.0</td>\n",
              "      <td>0.0</td>\n",
              "      <td>NaN</td>\n",
              "    </tr>\n",
              "    <tr>\n",
              "      <th>374</th>\n",
              "      <td>0.0</td>\n",
              "      <td>0.0</td>\n",
              "      <td>NaN</td>\n",
              "    </tr>\n",
              "    <tr>\n",
              "      <th>...</th>\n",
              "      <td>...</td>\n",
              "      <td>...</td>\n",
              "      <td>...</td>\n",
              "    </tr>\n",
              "    <tr>\n",
              "      <th>121720</th>\n",
              "      <td>0.0</td>\n",
              "      <td>0.0</td>\n",
              "      <td>NaN</td>\n",
              "    </tr>\n",
              "    <tr>\n",
              "      <th>121725</th>\n",
              "      <td>0.0</td>\n",
              "      <td>1.0</td>\n",
              "      <td>NaN</td>\n",
              "    </tr>\n",
              "    <tr>\n",
              "      <th>121745</th>\n",
              "      <td>NaN</td>\n",
              "      <td>0.0</td>\n",
              "      <td>NaN</td>\n",
              "    </tr>\n",
              "    <tr>\n",
              "      <th>121795</th>\n",
              "      <td>0.0</td>\n",
              "      <td>0.0</td>\n",
              "      <td>NaN</td>\n",
              "    </tr>\n",
              "    <tr>\n",
              "      <th>121832</th>\n",
              "      <td>0.0</td>\n",
              "      <td>0.0</td>\n",
              "      <td>NaN</td>\n",
              "    </tr>\n",
              "  </tbody>\n",
              "</table>\n",
              "<p>2379 rows × 3 columns</p>\n",
              "</div>\n",
              "    <div class=\"colab-df-buttons\">\n",
              "\n",
              "  <div class=\"colab-df-container\">\n",
              "    <button class=\"colab-df-convert\" onclick=\"convertToInteractive('df-a15a6b53-45fc-4091-8a44-e526a5d1682d')\"\n",
              "            title=\"Convert this dataframe to an interactive table.\"\n",
              "            style=\"display:none;\">\n",
              "\n",
              "  <svg xmlns=\"http://www.w3.org/2000/svg\" height=\"24px\" viewBox=\"0 -960 960 960\">\n",
              "    <path d=\"M120-120v-720h720v720H120Zm60-500h600v-160H180v160Zm220 220h160v-160H400v160Zm0 220h160v-160H400v160ZM180-400h160v-160H180v160Zm440 0h160v-160H620v160ZM180-180h160v-160H180v160Zm440 0h160v-160H620v160Z\"/>\n",
              "  </svg>\n",
              "    </button>\n",
              "\n",
              "  <style>\n",
              "    .colab-df-container {\n",
              "      display:flex;\n",
              "      gap: 12px;\n",
              "    }\n",
              "\n",
              "    .colab-df-convert {\n",
              "      background-color: #E8F0FE;\n",
              "      border: none;\n",
              "      border-radius: 50%;\n",
              "      cursor: pointer;\n",
              "      display: none;\n",
              "      fill: #1967D2;\n",
              "      height: 32px;\n",
              "      padding: 0 0 0 0;\n",
              "      width: 32px;\n",
              "    }\n",
              "\n",
              "    .colab-df-convert:hover {\n",
              "      background-color: #E2EBFA;\n",
              "      box-shadow: 0px 1px 2px rgba(60, 64, 67, 0.3), 0px 1px 3px 1px rgba(60, 64, 67, 0.15);\n",
              "      fill: #174EA6;\n",
              "    }\n",
              "\n",
              "    .colab-df-buttons div {\n",
              "      margin-bottom: 4px;\n",
              "    }\n",
              "\n",
              "    [theme=dark] .colab-df-convert {\n",
              "      background-color: #3B4455;\n",
              "      fill: #D2E3FC;\n",
              "    }\n",
              "\n",
              "    [theme=dark] .colab-df-convert:hover {\n",
              "      background-color: #434B5C;\n",
              "      box-shadow: 0px 1px 3px 1px rgba(0, 0, 0, 0.15);\n",
              "      filter: drop-shadow(0px 1px 2px rgba(0, 0, 0, 0.3));\n",
              "      fill: #FFFFFF;\n",
              "    }\n",
              "  </style>\n",
              "\n",
              "    <script>\n",
              "      const buttonEl =\n",
              "        document.querySelector('#df-a15a6b53-45fc-4091-8a44-e526a5d1682d button.colab-df-convert');\n",
              "      buttonEl.style.display =\n",
              "        google.colab.kernel.accessAllowed ? 'block' : 'none';\n",
              "\n",
              "      async function convertToInteractive(key) {\n",
              "        const element = document.querySelector('#df-a15a6b53-45fc-4091-8a44-e526a5d1682d');\n",
              "        const dataTable =\n",
              "          await google.colab.kernel.invokeFunction('convertToInteractive',\n",
              "                                                    [key], {});\n",
              "        if (!dataTable) return;\n",
              "\n",
              "        const docLinkHtml = 'Like what you see? Visit the ' +\n",
              "          '<a target=\"_blank\" href=https://colab.research.google.com/notebooks/data_table.ipynb>data table notebook</a>'\n",
              "          + ' to learn more about interactive tables.';\n",
              "        element.innerHTML = '';\n",
              "        dataTable['output_type'] = 'display_data';\n",
              "        await google.colab.output.renderOutput(dataTable, element);\n",
              "        const docLink = document.createElement('div');\n",
              "        docLink.innerHTML = docLinkHtml;\n",
              "        element.appendChild(docLink);\n",
              "      }\n",
              "    </script>\n",
              "  </div>\n",
              "\n",
              "\n",
              "<div id=\"df-4eeaed1c-5717-4ae0-b81a-a6e27a3c15af\">\n",
              "  <button class=\"colab-df-quickchart\" onclick=\"quickchart('df-4eeaed1c-5717-4ae0-b81a-a6e27a3c15af')\"\n",
              "            title=\"Suggest charts\"\n",
              "            style=\"display:none;\">\n",
              "\n",
              "<svg xmlns=\"http://www.w3.org/2000/svg\" height=\"24px\"viewBox=\"0 0 24 24\"\n",
              "     width=\"24px\">\n",
              "    <g>\n",
              "        <path d=\"M19 3H5c-1.1 0-2 .9-2 2v14c0 1.1.9 2 2 2h14c1.1 0 2-.9 2-2V5c0-1.1-.9-2-2-2zM9 17H7v-7h2v7zm4 0h-2V7h2v10zm4 0h-2v-4h2v4z\"/>\n",
              "    </g>\n",
              "</svg>\n",
              "  </button>\n",
              "\n",
              "<style>\n",
              "  .colab-df-quickchart {\n",
              "      --bg-color: #E8F0FE;\n",
              "      --fill-color: #1967D2;\n",
              "      --hover-bg-color: #E2EBFA;\n",
              "      --hover-fill-color: #174EA6;\n",
              "      --disabled-fill-color: #AAA;\n",
              "      --disabled-bg-color: #DDD;\n",
              "  }\n",
              "\n",
              "  [theme=dark] .colab-df-quickchart {\n",
              "      --bg-color: #3B4455;\n",
              "      --fill-color: #D2E3FC;\n",
              "      --hover-bg-color: #434B5C;\n",
              "      --hover-fill-color: #FFFFFF;\n",
              "      --disabled-bg-color: #3B4455;\n",
              "      --disabled-fill-color: #666;\n",
              "  }\n",
              "\n",
              "  .colab-df-quickchart {\n",
              "    background-color: var(--bg-color);\n",
              "    border: none;\n",
              "    border-radius: 50%;\n",
              "    cursor: pointer;\n",
              "    display: none;\n",
              "    fill: var(--fill-color);\n",
              "    height: 32px;\n",
              "    padding: 0;\n",
              "    width: 32px;\n",
              "  }\n",
              "\n",
              "  .colab-df-quickchart:hover {\n",
              "    background-color: var(--hover-bg-color);\n",
              "    box-shadow: 0 1px 2px rgba(60, 64, 67, 0.3), 0 1px 3px 1px rgba(60, 64, 67, 0.15);\n",
              "    fill: var(--button-hover-fill-color);\n",
              "  }\n",
              "\n",
              "  .colab-df-quickchart-complete:disabled,\n",
              "  .colab-df-quickchart-complete:disabled:hover {\n",
              "    background-color: var(--disabled-bg-color);\n",
              "    fill: var(--disabled-fill-color);\n",
              "    box-shadow: none;\n",
              "  }\n",
              "\n",
              "  .colab-df-spinner {\n",
              "    border: 2px solid var(--fill-color);\n",
              "    border-color: transparent;\n",
              "    border-bottom-color: var(--fill-color);\n",
              "    animation:\n",
              "      spin 1s steps(1) infinite;\n",
              "  }\n",
              "\n",
              "  @keyframes spin {\n",
              "    0% {\n",
              "      border-color: transparent;\n",
              "      border-bottom-color: var(--fill-color);\n",
              "      border-left-color: var(--fill-color);\n",
              "    }\n",
              "    20% {\n",
              "      border-color: transparent;\n",
              "      border-left-color: var(--fill-color);\n",
              "      border-top-color: var(--fill-color);\n",
              "    }\n",
              "    30% {\n",
              "      border-color: transparent;\n",
              "      border-left-color: var(--fill-color);\n",
              "      border-top-color: var(--fill-color);\n",
              "      border-right-color: var(--fill-color);\n",
              "    }\n",
              "    40% {\n",
              "      border-color: transparent;\n",
              "      border-right-color: var(--fill-color);\n",
              "      border-top-color: var(--fill-color);\n",
              "    }\n",
              "    60% {\n",
              "      border-color: transparent;\n",
              "      border-right-color: var(--fill-color);\n",
              "    }\n",
              "    80% {\n",
              "      border-color: transparent;\n",
              "      border-right-color: var(--fill-color);\n",
              "      border-bottom-color: var(--fill-color);\n",
              "    }\n",
              "    90% {\n",
              "      border-color: transparent;\n",
              "      border-bottom-color: var(--fill-color);\n",
              "    }\n",
              "  }\n",
              "</style>\n",
              "\n",
              "  <script>\n",
              "    async function quickchart(key) {\n",
              "      const quickchartButtonEl =\n",
              "        document.querySelector('#' + key + ' button');\n",
              "      quickchartButtonEl.disabled = true;  // To prevent multiple clicks.\n",
              "      quickchartButtonEl.classList.add('colab-df-spinner');\n",
              "      try {\n",
              "        const charts = await google.colab.kernel.invokeFunction(\n",
              "            'suggestCharts', [key], {});\n",
              "      } catch (error) {\n",
              "        console.error('Error during call to suggestCharts:', error);\n",
              "      }\n",
              "      quickchartButtonEl.classList.remove('colab-df-spinner');\n",
              "      quickchartButtonEl.classList.add('colab-df-quickchart-complete');\n",
              "    }\n",
              "    (() => {\n",
              "      let quickchartButtonEl =\n",
              "        document.querySelector('#df-4eeaed1c-5717-4ae0-b81a-a6e27a3c15af button');\n",
              "      quickchartButtonEl.style.display =\n",
              "        google.colab.kernel.accessAllowed ? 'block' : 'none';\n",
              "    })();\n",
              "  </script>\n",
              "</div>\n",
              "\n",
              "    </div>\n",
              "  </div>\n"
            ],
            "application/vnd.google.colaboratory.intrinsic+json": {
              "type": "dataframe",
              "summary": "{\n  \"name\": \"data\",\n  \"rows\": 2379,\n  \"fields\": [\n    {\n      \"column\": \"Car_Owned\",\n      \"properties\": {\n        \"dtype\": \"number\",\n        \"std\": 0.0,\n        \"min\": 0.0,\n        \"max\": 0.0,\n        \"num_unique_values\": 1,\n        \"samples\": [\n          0.0\n        ],\n        \"semantic_type\": \"\",\n        \"description\": \"\"\n      }\n    },\n    {\n      \"column\": \"Bike_Owned\",\n      \"properties\": {\n        \"dtype\": \"number\",\n        \"std\": 0.4694289890502812,\n        \"min\": 0.0,\n        \"max\": 1.0,\n        \"num_unique_values\": 2,\n        \"samples\": [\n          0.0\n        ],\n        \"semantic_type\": \"\",\n        \"description\": \"\"\n      }\n    },\n    {\n      \"column\": \"House_Own\",\n      \"properties\": {\n        \"dtype\": \"number\",\n        \"std\": null,\n        \"min\": null,\n        \"max\": null,\n        \"num_unique_values\": 0,\n        \"samples\": [],\n        \"semantic_type\": \"\",\n        \"description\": \"\"\n      }\n    }\n  ]\n}"
            }
          },
          "metadata": {},
          "execution_count": 110
        }
      ]
    },
    {
      "cell_type": "code",
      "source": [
        "data.loc[data['Own_House_Age'].isnull(), collateral_vars]"
      ],
      "metadata": {
        "id": "oDVde2PD1ebb",
        "outputId": "f3b87c0d-e84c-44d7-964c-90e4ef16d928",
        "colab": {
          "base_uri": "https://localhost:8080/",
          "height": 423
        }
      },
      "execution_count": 111,
      "outputs": [
        {
          "output_type": "execute_result",
          "data": {
            "text/plain": [
              "        Car_Owned  Bike_Owned  House_Own\n",
              "140           0.0         1.0        NaN\n",
              "228           0.0         NaN        NaN\n",
              "322           0.0         1.0        NaN\n",
              "337           0.0         0.0        NaN\n",
              "374           0.0         0.0        NaN\n",
              "...           ...         ...        ...\n",
              "121720        0.0         0.0        NaN\n",
              "121725        0.0         1.0        NaN\n",
              "121745        NaN         0.0        NaN\n",
              "121795        0.0         0.0        NaN\n",
              "121832        0.0         0.0        NaN\n",
              "\n",
              "[2379 rows x 3 columns]"
            ],
            "text/html": [
              "\n",
              "  <div id=\"df-3fc2571d-0c9e-4ab8-820a-f4aa8537ecb8\" class=\"colab-df-container\">\n",
              "    <div>\n",
              "<style scoped>\n",
              "    .dataframe tbody tr th:only-of-type {\n",
              "        vertical-align: middle;\n",
              "    }\n",
              "\n",
              "    .dataframe tbody tr th {\n",
              "        vertical-align: top;\n",
              "    }\n",
              "\n",
              "    .dataframe thead th {\n",
              "        text-align: right;\n",
              "    }\n",
              "</style>\n",
              "<table border=\"1\" class=\"dataframe\">\n",
              "  <thead>\n",
              "    <tr style=\"text-align: right;\">\n",
              "      <th></th>\n",
              "      <th>Car_Owned</th>\n",
              "      <th>Bike_Owned</th>\n",
              "      <th>House_Own</th>\n",
              "    </tr>\n",
              "  </thead>\n",
              "  <tbody>\n",
              "    <tr>\n",
              "      <th>140</th>\n",
              "      <td>0.0</td>\n",
              "      <td>1.0</td>\n",
              "      <td>NaN</td>\n",
              "    </tr>\n",
              "    <tr>\n",
              "      <th>228</th>\n",
              "      <td>0.0</td>\n",
              "      <td>NaN</td>\n",
              "      <td>NaN</td>\n",
              "    </tr>\n",
              "    <tr>\n",
              "      <th>322</th>\n",
              "      <td>0.0</td>\n",
              "      <td>1.0</td>\n",
              "      <td>NaN</td>\n",
              "    </tr>\n",
              "    <tr>\n",
              "      <th>337</th>\n",
              "      <td>0.0</td>\n",
              "      <td>0.0</td>\n",
              "      <td>NaN</td>\n",
              "    </tr>\n",
              "    <tr>\n",
              "      <th>374</th>\n",
              "      <td>0.0</td>\n",
              "      <td>0.0</td>\n",
              "      <td>NaN</td>\n",
              "    </tr>\n",
              "    <tr>\n",
              "      <th>...</th>\n",
              "      <td>...</td>\n",
              "      <td>...</td>\n",
              "      <td>...</td>\n",
              "    </tr>\n",
              "    <tr>\n",
              "      <th>121720</th>\n",
              "      <td>0.0</td>\n",
              "      <td>0.0</td>\n",
              "      <td>NaN</td>\n",
              "    </tr>\n",
              "    <tr>\n",
              "      <th>121725</th>\n",
              "      <td>0.0</td>\n",
              "      <td>1.0</td>\n",
              "      <td>NaN</td>\n",
              "    </tr>\n",
              "    <tr>\n",
              "      <th>121745</th>\n",
              "      <td>NaN</td>\n",
              "      <td>0.0</td>\n",
              "      <td>NaN</td>\n",
              "    </tr>\n",
              "    <tr>\n",
              "      <th>121795</th>\n",
              "      <td>0.0</td>\n",
              "      <td>0.0</td>\n",
              "      <td>NaN</td>\n",
              "    </tr>\n",
              "    <tr>\n",
              "      <th>121832</th>\n",
              "      <td>0.0</td>\n",
              "      <td>0.0</td>\n",
              "      <td>NaN</td>\n",
              "    </tr>\n",
              "  </tbody>\n",
              "</table>\n",
              "<p>2379 rows × 3 columns</p>\n",
              "</div>\n",
              "    <div class=\"colab-df-buttons\">\n",
              "\n",
              "  <div class=\"colab-df-container\">\n",
              "    <button class=\"colab-df-convert\" onclick=\"convertToInteractive('df-3fc2571d-0c9e-4ab8-820a-f4aa8537ecb8')\"\n",
              "            title=\"Convert this dataframe to an interactive table.\"\n",
              "            style=\"display:none;\">\n",
              "\n",
              "  <svg xmlns=\"http://www.w3.org/2000/svg\" height=\"24px\" viewBox=\"0 -960 960 960\">\n",
              "    <path d=\"M120-120v-720h720v720H120Zm60-500h600v-160H180v160Zm220 220h160v-160H400v160Zm0 220h160v-160H400v160ZM180-400h160v-160H180v160Zm440 0h160v-160H620v160ZM180-180h160v-160H180v160Zm440 0h160v-160H620v160Z\"/>\n",
              "  </svg>\n",
              "    </button>\n",
              "\n",
              "  <style>\n",
              "    .colab-df-container {\n",
              "      display:flex;\n",
              "      gap: 12px;\n",
              "    }\n",
              "\n",
              "    .colab-df-convert {\n",
              "      background-color: #E8F0FE;\n",
              "      border: none;\n",
              "      border-radius: 50%;\n",
              "      cursor: pointer;\n",
              "      display: none;\n",
              "      fill: #1967D2;\n",
              "      height: 32px;\n",
              "      padding: 0 0 0 0;\n",
              "      width: 32px;\n",
              "    }\n",
              "\n",
              "    .colab-df-convert:hover {\n",
              "      background-color: #E2EBFA;\n",
              "      box-shadow: 0px 1px 2px rgba(60, 64, 67, 0.3), 0px 1px 3px 1px rgba(60, 64, 67, 0.15);\n",
              "      fill: #174EA6;\n",
              "    }\n",
              "\n",
              "    .colab-df-buttons div {\n",
              "      margin-bottom: 4px;\n",
              "    }\n",
              "\n",
              "    [theme=dark] .colab-df-convert {\n",
              "      background-color: #3B4455;\n",
              "      fill: #D2E3FC;\n",
              "    }\n",
              "\n",
              "    [theme=dark] .colab-df-convert:hover {\n",
              "      background-color: #434B5C;\n",
              "      box-shadow: 0px 1px 3px 1px rgba(0, 0, 0, 0.15);\n",
              "      filter: drop-shadow(0px 1px 2px rgba(0, 0, 0, 0.3));\n",
              "      fill: #FFFFFF;\n",
              "    }\n",
              "  </style>\n",
              "\n",
              "    <script>\n",
              "      const buttonEl =\n",
              "        document.querySelector('#df-3fc2571d-0c9e-4ab8-820a-f4aa8537ecb8 button.colab-df-convert');\n",
              "      buttonEl.style.display =\n",
              "        google.colab.kernel.accessAllowed ? 'block' : 'none';\n",
              "\n",
              "      async function convertToInteractive(key) {\n",
              "        const element = document.querySelector('#df-3fc2571d-0c9e-4ab8-820a-f4aa8537ecb8');\n",
              "        const dataTable =\n",
              "          await google.colab.kernel.invokeFunction('convertToInteractive',\n",
              "                                                    [key], {});\n",
              "        if (!dataTable) return;\n",
              "\n",
              "        const docLinkHtml = 'Like what you see? Visit the ' +\n",
              "          '<a target=\"_blank\" href=https://colab.research.google.com/notebooks/data_table.ipynb>data table notebook</a>'\n",
              "          + ' to learn more about interactive tables.';\n",
              "        element.innerHTML = '';\n",
              "        dataTable['output_type'] = 'display_data';\n",
              "        await google.colab.output.renderOutput(dataTable, element);\n",
              "        const docLink = document.createElement('div');\n",
              "        docLink.innerHTML = docLinkHtml;\n",
              "        element.appendChild(docLink);\n",
              "      }\n",
              "    </script>\n",
              "  </div>\n",
              "\n",
              "\n",
              "<div id=\"df-00942da8-cff9-4e13-be62-c412b83d55f1\">\n",
              "  <button class=\"colab-df-quickchart\" onclick=\"quickchart('df-00942da8-cff9-4e13-be62-c412b83d55f1')\"\n",
              "            title=\"Suggest charts\"\n",
              "            style=\"display:none;\">\n",
              "\n",
              "<svg xmlns=\"http://www.w3.org/2000/svg\" height=\"24px\"viewBox=\"0 0 24 24\"\n",
              "     width=\"24px\">\n",
              "    <g>\n",
              "        <path d=\"M19 3H5c-1.1 0-2 .9-2 2v14c0 1.1.9 2 2 2h14c1.1 0 2-.9 2-2V5c0-1.1-.9-2-2-2zM9 17H7v-7h2v7zm4 0h-2V7h2v10zm4 0h-2v-4h2v4z\"/>\n",
              "    </g>\n",
              "</svg>\n",
              "  </button>\n",
              "\n",
              "<style>\n",
              "  .colab-df-quickchart {\n",
              "      --bg-color: #E8F0FE;\n",
              "      --fill-color: #1967D2;\n",
              "      --hover-bg-color: #E2EBFA;\n",
              "      --hover-fill-color: #174EA6;\n",
              "      --disabled-fill-color: #AAA;\n",
              "      --disabled-bg-color: #DDD;\n",
              "  }\n",
              "\n",
              "  [theme=dark] .colab-df-quickchart {\n",
              "      --bg-color: #3B4455;\n",
              "      --fill-color: #D2E3FC;\n",
              "      --hover-bg-color: #434B5C;\n",
              "      --hover-fill-color: #FFFFFF;\n",
              "      --disabled-bg-color: #3B4455;\n",
              "      --disabled-fill-color: #666;\n",
              "  }\n",
              "\n",
              "  .colab-df-quickchart {\n",
              "    background-color: var(--bg-color);\n",
              "    border: none;\n",
              "    border-radius: 50%;\n",
              "    cursor: pointer;\n",
              "    display: none;\n",
              "    fill: var(--fill-color);\n",
              "    height: 32px;\n",
              "    padding: 0;\n",
              "    width: 32px;\n",
              "  }\n",
              "\n",
              "  .colab-df-quickchart:hover {\n",
              "    background-color: var(--hover-bg-color);\n",
              "    box-shadow: 0 1px 2px rgba(60, 64, 67, 0.3), 0 1px 3px 1px rgba(60, 64, 67, 0.15);\n",
              "    fill: var(--button-hover-fill-color);\n",
              "  }\n",
              "\n",
              "  .colab-df-quickchart-complete:disabled,\n",
              "  .colab-df-quickchart-complete:disabled:hover {\n",
              "    background-color: var(--disabled-bg-color);\n",
              "    fill: var(--disabled-fill-color);\n",
              "    box-shadow: none;\n",
              "  }\n",
              "\n",
              "  .colab-df-spinner {\n",
              "    border: 2px solid var(--fill-color);\n",
              "    border-color: transparent;\n",
              "    border-bottom-color: var(--fill-color);\n",
              "    animation:\n",
              "      spin 1s steps(1) infinite;\n",
              "  }\n",
              "\n",
              "  @keyframes spin {\n",
              "    0% {\n",
              "      border-color: transparent;\n",
              "      border-bottom-color: var(--fill-color);\n",
              "      border-left-color: var(--fill-color);\n",
              "    }\n",
              "    20% {\n",
              "      border-color: transparent;\n",
              "      border-left-color: var(--fill-color);\n",
              "      border-top-color: var(--fill-color);\n",
              "    }\n",
              "    30% {\n",
              "      border-color: transparent;\n",
              "      border-left-color: var(--fill-color);\n",
              "      border-top-color: var(--fill-color);\n",
              "      border-right-color: var(--fill-color);\n",
              "    }\n",
              "    40% {\n",
              "      border-color: transparent;\n",
              "      border-right-color: var(--fill-color);\n",
              "      border-top-color: var(--fill-color);\n",
              "    }\n",
              "    60% {\n",
              "      border-color: transparent;\n",
              "      border-right-color: var(--fill-color);\n",
              "    }\n",
              "    80% {\n",
              "      border-color: transparent;\n",
              "      border-right-color: var(--fill-color);\n",
              "      border-bottom-color: var(--fill-color);\n",
              "    }\n",
              "    90% {\n",
              "      border-color: transparent;\n",
              "      border-bottom-color: var(--fill-color);\n",
              "    }\n",
              "  }\n",
              "</style>\n",
              "\n",
              "  <script>\n",
              "    async function quickchart(key) {\n",
              "      const quickchartButtonEl =\n",
              "        document.querySelector('#' + key + ' button');\n",
              "      quickchartButtonEl.disabled = true;  // To prevent multiple clicks.\n",
              "      quickchartButtonEl.classList.add('colab-df-spinner');\n",
              "      try {\n",
              "        const charts = await google.colab.kernel.invokeFunction(\n",
              "            'suggestCharts', [key], {});\n",
              "      } catch (error) {\n",
              "        console.error('Error during call to suggestCharts:', error);\n",
              "      }\n",
              "      quickchartButtonEl.classList.remove('colab-df-spinner');\n",
              "      quickchartButtonEl.classList.add('colab-df-quickchart-complete');\n",
              "    }\n",
              "    (() => {\n",
              "      let quickchartButtonEl =\n",
              "        document.querySelector('#df-00942da8-cff9-4e13-be62-c412b83d55f1 button');\n",
              "      quickchartButtonEl.style.display =\n",
              "        google.colab.kernel.accessAllowed ? 'block' : 'none';\n",
              "    })();\n",
              "  </script>\n",
              "</div>\n",
              "\n",
              "    </div>\n",
              "  </div>\n"
            ],
            "application/vnd.google.colaboratory.intrinsic+json": {
              "type": "dataframe",
              "summary": "{\n  \"name\": \"data\",\n  \"rows\": 2379,\n  \"fields\": [\n    {\n      \"column\": \"Car_Owned\",\n      \"properties\": {\n        \"dtype\": \"number\",\n        \"std\": 0.0,\n        \"min\": 0.0,\n        \"max\": 0.0,\n        \"num_unique_values\": 1,\n        \"samples\": [\n          0.0\n        ],\n        \"semantic_type\": \"\",\n        \"description\": \"\"\n      }\n    },\n    {\n      \"column\": \"Bike_Owned\",\n      \"properties\": {\n        \"dtype\": \"number\",\n        \"std\": 0.4694289890502812,\n        \"min\": 0.0,\n        \"max\": 1.0,\n        \"num_unique_values\": 2,\n        \"samples\": [\n          0.0\n        ],\n        \"semantic_type\": \"\",\n        \"description\": \"\"\n      }\n    },\n    {\n      \"column\": \"House_Own\",\n      \"properties\": {\n        \"dtype\": \"number\",\n        \"std\": null,\n        \"min\": null,\n        \"max\": null,\n        \"num_unique_values\": 0,\n        \"samples\": [],\n        \"semantic_type\": \"\",\n        \"description\": \"\"\n      }\n    }\n  ]\n}"
            }
          },
          "metadata": {},
          "execution_count": 111
        }
      ]
    },
    {
      "cell_type": "code",
      "source": [
        "null_status()"
      ],
      "metadata": {
        "id": "A3qagQCLuS2a",
        "outputId": "30ced4cb-36ae-4d03-ed79-427617523aec",
        "colab": {
          "base_uri": "https://localhost:8080/"
        }
      },
      "execution_count": 112,
      "outputs": [
        {
          "output_type": "execute_result",
          "data": {
            "text/plain": [
              "Score_Source_1                56.488806\n",
              "Social_Circle_Default         50.820641\n",
              "Client_Occupation             34.003250\n",
              "Score_Source_3                22.092470\n",
              "Credit_Bureau                 15.214680\n",
              "ID_Days                        4.897584\n",
              "Score_Source_2                 4.666163\n",
              "Population_Region_Relative     3.985852\n",
              "Loan_Annuity                   3.948923\n",
              "Client_Income_Type             3.037191\n",
              "Client_Housing_Type            3.025702\n",
              "Phone_Change                   3.006828\n",
              "Application_Process_Hour       3.006007\n",
              "Loan_Contract_Type             2.996159\n",
              "Employed_Days                  2.994518\n",
              "Client_Education               2.991236\n",
              "Child_Count                    2.985491\n",
              "Active_Loan                    2.983029\n",
              "Credit_Amount                  2.980567\n",
              "Bike_Owned                     2.974002\n",
              "Registration_Days              2.965796\n",
              "Type_Organization              2.961692\n",
              "Client_Income                  2.960051\n",
              "Age_Days                       2.954307\n",
              "Car_Owned                      2.938715\n",
              "Client_Marital_Status          2.850085\n",
              "Application_Process_Day        1.992516\n",
              "Client_Gender                  1.980206\n",
              "Client_Family_Members          1.977744\n",
              "Cleint_City_Rating             1.976924\n",
              "Own_House_Age                  1.952304\n",
              "House_Own                      1.952304\n",
              "Accompany_Client               1.432839\n",
              "dtype: float64"
            ]
          },
          "metadata": {},
          "execution_count": 112
        }
      ]
    },
    {
      "cell_type": "markdown",
      "source": [
        "#### Client_Occupation\n"
      ],
      "metadata": {
        "id": "HLV3iPOa1va0"
      }
    },
    {
      "cell_type": "code",
      "source": [
        "demographic_vars"
      ],
      "metadata": {
        "id": "ZdHFjK8a8ShR",
        "outputId": "76ea15ec-719f-4da5-f965-5a5471e5663a",
        "colab": {
          "base_uri": "https://localhost:8080/"
        }
      },
      "execution_count": 113,
      "outputs": [
        {
          "output_type": "execute_result",
          "data": {
            "text/plain": [
              "['Client_Education',\n",
              " 'Client_Income_Type',\n",
              " 'Client_Income',\n",
              " 'Client_Education',\n",
              " 'Client_Marital_Status',\n",
              " 'Client_Gender',\n",
              " 'Age_Days',\n",
              " 'Type_Organization',\n",
              " 'Social_Circle_Default',\n",
              " 'ID_Days']"
            ]
          },
          "metadata": {},
          "execution_count": 113
        }
      ]
    },
    {
      "cell_type": "code",
      "source": [],
      "metadata": {
        "id": "A-1eFmSj8U-T"
      },
      "execution_count": null,
      "outputs": []
    }
  ],
  "metadata": {
    "colab": {
      "name": "scratchpad",
      "provenance": [],
      "toc_visible": true,
      "include_colab_link": true
    },
    "kernelspec": {
      "display_name": "Python 3",
      "name": "python3"
    }
  },
  "nbformat": 4,
  "nbformat_minor": 0
}